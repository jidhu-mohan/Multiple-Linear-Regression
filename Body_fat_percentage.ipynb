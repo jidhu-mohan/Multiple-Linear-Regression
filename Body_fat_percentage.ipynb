{
 "cells": [
  {
   "cell_type": "markdown",
   "metadata": {},
   "source": [
    "[Dataset](http://jse.amstat.org/v4n1/datasets.johnson.html)\n",
    "\n",
    "Percentage of body fat, age, weight, height, and ten body circumference measurements (e.g., abdomen) are recorded for 252 men. Body fat, one measure of health, has been accurately estimated by an underwater weighing technique. Fitting body fat to the other measurements using multiple regression provides a convenient way of estimating body fat for men using only a scale and a measuring tape."
   ]
  },
  {
   "cell_type": "code",
   "execution_count": 1,
   "metadata": {},
   "outputs": [],
   "source": [
    "import matplotlib.pyplot as plt\n",
    "import numpy as np\n",
    "import pandas as pd\n",
    "from pandas.plotting import scatter_matrix"
   ]
  },
  {
   "cell_type": "markdown",
   "metadata": {},
   "source": [
    "**Dataset Description**\n",
    "    - case  Case Number\n",
    "     pbf_b  Percent body fat using Brozek's equation, \n",
    "               457/Density - 414.2\n",
    "     pbf_s  Percent body fat using Siri's equation, \n",
    "               495/Density - 450\n",
    "     density  Density (gm/cm^3)\n",
    "     age  Age (yrs)\n",
    "     weight  Weight (lbs)\n",
    "     height  Height (inches)\n",
    "     bmi  Adiposity index = Weight/Height^2 (kg/m^2)\n",
    "     fat_free_w  Fat Free Weight \n",
    "               = (1 - fraction of body fat) * Weight, \n",
    "               using Brozek's formula (lbs)\n",
    "     neck  Neck circumference (cm)\n",
    "     chest  Chest circumference (cm)\n",
    "     abdomen  Abdomen circumference (cm) \"at the umbilicus and level with the iliac crest\"\n",
    "     hip  Hip circumference (cm)\n",
    "     thigh  Thigh circumference (cm)\n",
    "     knee  Knee circumference (cm)\n",
    "     ankle  Ankle circumference (cm)\n",
    "     biceps  Extended biceps circumference (cm)\n",
    "     forearm  Forearm circumference (cm)\n",
    "     wrist  Wrist circumference (cm) \"distal to the styloid processes\""
   ]
  },
  {
   "cell_type": "code",
   "execution_count": 2,
   "metadata": {},
   "outputs": [
    {
     "data": {
      "text/html": [
       "<div>\n",
       "<style scoped>\n",
       "    .dataframe tbody tr th:only-of-type {\n",
       "        vertical-align: middle;\n",
       "    }\n",
       "\n",
       "    .dataframe tbody tr th {\n",
       "        vertical-align: top;\n",
       "    }\n",
       "\n",
       "    .dataframe thead th {\n",
       "        text-align: right;\n",
       "    }\n",
       "</style>\n",
       "<table border=\"1\" class=\"dataframe\">\n",
       "  <thead>\n",
       "    <tr style=\"text-align: right;\">\n",
       "      <th></th>\n",
       "      <th>case</th>\n",
       "      <th>pbf_b</th>\n",
       "      <th>pbf_s</th>\n",
       "      <th>density</th>\n",
       "      <th>age</th>\n",
       "      <th>weight</th>\n",
       "      <th>height</th>\n",
       "      <th>bmi</th>\n",
       "      <th>fat_free_w</th>\n",
       "      <th>neck</th>\n",
       "      <th>chest</th>\n",
       "      <th>abdomen</th>\n",
       "      <th>hip</th>\n",
       "      <th>thigh</th>\n",
       "      <th>knee</th>\n",
       "      <th>ankle</th>\n",
       "      <th>biceps</th>\n",
       "      <th>forearm</th>\n",
       "      <th>wrist</th>\n",
       "    </tr>\n",
       "  </thead>\n",
       "  <tbody>\n",
       "    <tr>\n",
       "      <th>0</th>\n",
       "      <td>1</td>\n",
       "      <td>12.6</td>\n",
       "      <td>12.3</td>\n",
       "      <td>1.0708</td>\n",
       "      <td>23</td>\n",
       "      <td>154.25</td>\n",
       "      <td>67.75</td>\n",
       "      <td>23.7</td>\n",
       "      <td>134.9</td>\n",
       "      <td>36.2</td>\n",
       "      <td>93.1</td>\n",
       "      <td>85.2</td>\n",
       "      <td>94.5</td>\n",
       "      <td>59.0</td>\n",
       "      <td>37.3</td>\n",
       "      <td>21.9</td>\n",
       "      <td>32.0</td>\n",
       "      <td>27.4</td>\n",
       "      <td>17.1</td>\n",
       "    </tr>\n",
       "    <tr>\n",
       "      <th>1</th>\n",
       "      <td>2</td>\n",
       "      <td>6.9</td>\n",
       "      <td>6.1</td>\n",
       "      <td>1.0853</td>\n",
       "      <td>22</td>\n",
       "      <td>173.25</td>\n",
       "      <td>72.25</td>\n",
       "      <td>23.4</td>\n",
       "      <td>161.3</td>\n",
       "      <td>38.5</td>\n",
       "      <td>93.6</td>\n",
       "      <td>83.0</td>\n",
       "      <td>98.7</td>\n",
       "      <td>58.7</td>\n",
       "      <td>37.3</td>\n",
       "      <td>23.4</td>\n",
       "      <td>30.5</td>\n",
       "      <td>28.9</td>\n",
       "      <td>18.2</td>\n",
       "    </tr>\n",
       "    <tr>\n",
       "      <th>2</th>\n",
       "      <td>3</td>\n",
       "      <td>24.6</td>\n",
       "      <td>25.3</td>\n",
       "      <td>1.0414</td>\n",
       "      <td>22</td>\n",
       "      <td>154.00</td>\n",
       "      <td>66.25</td>\n",
       "      <td>24.7</td>\n",
       "      <td>116.0</td>\n",
       "      <td>34.0</td>\n",
       "      <td>95.8</td>\n",
       "      <td>87.9</td>\n",
       "      <td>99.2</td>\n",
       "      <td>59.6</td>\n",
       "      <td>38.9</td>\n",
       "      <td>24.0</td>\n",
       "      <td>28.8</td>\n",
       "      <td>25.2</td>\n",
       "      <td>16.6</td>\n",
       "    </tr>\n",
       "    <tr>\n",
       "      <th>3</th>\n",
       "      <td>4</td>\n",
       "      <td>10.9</td>\n",
       "      <td>10.4</td>\n",
       "      <td>1.0751</td>\n",
       "      <td>26</td>\n",
       "      <td>184.75</td>\n",
       "      <td>72.25</td>\n",
       "      <td>24.9</td>\n",
       "      <td>164.7</td>\n",
       "      <td>37.4</td>\n",
       "      <td>101.8</td>\n",
       "      <td>86.4</td>\n",
       "      <td>101.2</td>\n",
       "      <td>60.1</td>\n",
       "      <td>37.3</td>\n",
       "      <td>22.8</td>\n",
       "      <td>32.4</td>\n",
       "      <td>29.4</td>\n",
       "      <td>18.2</td>\n",
       "    </tr>\n",
       "    <tr>\n",
       "      <th>4</th>\n",
       "      <td>5</td>\n",
       "      <td>27.8</td>\n",
       "      <td>28.7</td>\n",
       "      <td>1.0340</td>\n",
       "      <td>24</td>\n",
       "      <td>184.25</td>\n",
       "      <td>71.25</td>\n",
       "      <td>25.6</td>\n",
       "      <td>133.1</td>\n",
       "      <td>34.4</td>\n",
       "      <td>97.3</td>\n",
       "      <td>100.0</td>\n",
       "      <td>101.9</td>\n",
       "      <td>63.2</td>\n",
       "      <td>42.2</td>\n",
       "      <td>24.0</td>\n",
       "      <td>32.2</td>\n",
       "      <td>27.7</td>\n",
       "      <td>17.7</td>\n",
       "    </tr>\n",
       "  </tbody>\n",
       "</table>\n",
       "</div>"
      ],
      "text/plain": [
       "   case  pbf_b  pbf_s  density  age  weight  height   bmi  fat_free_w  neck  \\\n",
       "0     1   12.6   12.3   1.0708   23  154.25   67.75  23.7       134.9  36.2   \n",
       "1     2    6.9    6.1   1.0853   22  173.25   72.25  23.4       161.3  38.5   \n",
       "2     3   24.6   25.3   1.0414   22  154.00   66.25  24.7       116.0  34.0   \n",
       "3     4   10.9   10.4   1.0751   26  184.75   72.25  24.9       164.7  37.4   \n",
       "4     5   27.8   28.7   1.0340   24  184.25   71.25  25.6       133.1  34.4   \n",
       "\n",
       "   chest  abdomen    hip  thigh  knee  ankle  biceps  forearm  wrist  \n",
       "0   93.1     85.2   94.5   59.0  37.3   21.9    32.0     27.4   17.1  \n",
       "1   93.6     83.0   98.7   58.7  37.3   23.4    30.5     28.9   18.2  \n",
       "2   95.8     87.9   99.2   59.6  38.9   24.0    28.8     25.2   16.6  \n",
       "3  101.8     86.4  101.2   60.1  37.3   22.8    32.4     29.4   18.2  \n",
       "4   97.3    100.0  101.9   63.2  42.2   24.0    32.2     27.7   17.7  "
      ]
     },
     "execution_count": 2,
     "metadata": {},
     "output_type": "execute_result"
    }
   ],
   "source": [
    "data = pd.read_csv('Fat_data.txt', delim_whitespace=True)\n",
    "data.head()"
   ]
  },
  {
   "cell_type": "code",
   "execution_count": 3,
   "metadata": {},
   "outputs": [
    {
     "data": {
      "text/plain": [
       "(252, 19)"
      ]
     },
     "execution_count": 3,
     "metadata": {},
     "output_type": "execute_result"
    }
   ],
   "source": [
    "data.shape"
   ]
  },
  {
   "cell_type": "code",
   "execution_count": 4,
   "metadata": {},
   "outputs": [
    {
     "name": "stdout",
     "output_type": "stream",
     "text": [
      "<class 'pandas.core.frame.DataFrame'>\n",
      "RangeIndex: 252 entries, 0 to 251\n",
      "Data columns (total 19 columns):\n",
      "case          252 non-null int64\n",
      "pbf_b         252 non-null float64\n",
      "pbf_s         252 non-null float64\n",
      "density       252 non-null float64\n",
      "age           252 non-null int64\n",
      "weight        252 non-null float64\n",
      "height        252 non-null float64\n",
      "bmi           252 non-null float64\n",
      "fat_free_w    252 non-null float64\n",
      "neck          252 non-null float64\n",
      "chest         252 non-null float64\n",
      "abdomen       252 non-null float64\n",
      "hip           252 non-null float64\n",
      "thigh         252 non-null float64\n",
      "knee          252 non-null float64\n",
      "ankle         252 non-null float64\n",
      "biceps        252 non-null float64\n",
      "forearm       252 non-null float64\n",
      "wrist         252 non-null float64\n",
      "dtypes: float64(17), int64(2)\n",
      "memory usage: 37.5 KB\n"
     ]
    }
   ],
   "source": [
    "data.info()"
   ]
  },
  {
   "cell_type": "code",
   "execution_count": 5,
   "metadata": {},
   "outputs": [],
   "source": [
    "data = data.drop(['case', 'fat_free_w'], axis=1)\n",
    "# Remove a few data points (outliers, incorrect values)\n",
    "data = data.drop([42, 182])\n",
    "# data = data[data['weight']<300]\n",
    "# data.shape"
   ]
  },
  {
   "cell_type": "markdown",
   "metadata": {},
   "source": [
    "Now that the data is loaded, we can check it out. We'll look at the first few cases, then make some plots so we can see how some of the data is distributed. The first two columns are percent body fat (PBF) using the Brozek and Siri formula's, respectively. Every column from \"neck\" on is the circumference at those locations."
   ]
  },
  {
   "cell_type": "code",
   "execution_count": 6,
   "metadata": {},
   "outputs": [
    {
     "data": {
      "image/png": "[encoded data removed]",
      "text/plain": [
       "<Figure size 432x288 with 16 Axes>"
      ]
     },
     "metadata": {},
     "output_type": "display_data"
    }
   ],
   "source": [
    "scatter_matrix(data[['pbf_b', 'bmi', 'wrist', 'abdomen']])\n",
    "plt.show()"
   ]
  },
  {
   "cell_type": "code",
   "execution_count": 7,
   "metadata": {},
   "outputs": [
    {
     "data": {
      "text/html": [
       "<div>\n",
       "<style scoped>\n",
       "    .dataframe tbody tr th:only-of-type {\n",
       "        vertical-align: middle;\n",
       "    }\n",
       "\n",
       "    .dataframe tbody tr th {\n",
       "        vertical-align: top;\n",
       "    }\n",
       "\n",
       "    .dataframe thead th {\n",
       "        text-align: right;\n",
       "    }\n",
       "</style>\n",
       "<table border=\"1\" class=\"dataframe\">\n",
       "  <thead>\n",
       "    <tr style=\"text-align: right;\">\n",
       "      <th></th>\n",
       "      <th>pbf_b</th>\n",
       "      <th>bmi</th>\n",
       "      <th>wrist</th>\n",
       "      <th>abdomen</th>\n",
       "    </tr>\n",
       "  </thead>\n",
       "  <tbody>\n",
       "    <tr>\n",
       "      <th>pbf_b</th>\n",
       "      <td>1.000000</td>\n",
       "      <td>0.724734</td>\n",
       "      <td>0.345454</td>\n",
       "      <td>0.811328</td>\n",
       "    </tr>\n",
       "    <tr>\n",
       "      <th>bmi</th>\n",
       "      <td>0.724734</td>\n",
       "      <td>1.000000</td>\n",
       "      <td>0.626866</td>\n",
       "      <td>0.922902</td>\n",
       "    </tr>\n",
       "    <tr>\n",
       "      <th>wrist</th>\n",
       "      <td>0.345454</td>\n",
       "      <td>0.626866</td>\n",
       "      <td>1.000000</td>\n",
       "      <td>0.621053</td>\n",
       "    </tr>\n",
       "    <tr>\n",
       "      <th>abdomen</th>\n",
       "      <td>0.811328</td>\n",
       "      <td>0.922902</td>\n",
       "      <td>0.621053</td>\n",
       "      <td>1.000000</td>\n",
       "    </tr>\n",
       "  </tbody>\n",
       "</table>\n",
       "</div>"
      ],
      "text/plain": [
       "            pbf_b       bmi     wrist   abdomen\n",
       "pbf_b    1.000000  0.724734  0.345454  0.811328\n",
       "bmi      0.724734  1.000000  0.626866  0.922902\n",
       "wrist    0.345454  0.626866  1.000000  0.621053\n",
       "abdomen  0.811328  0.922902  0.621053  1.000000"
      ]
     },
     "execution_count": 7,
     "metadata": {},
     "output_type": "execute_result"
    }
   ],
   "source": [
    "data[['pbf_b', 'bmi', 'wrist', 'abdomen']].corr()"
   ]
  },
  {
   "cell_type": "markdown",
   "metadata": {},
   "source": [
    "From this we can see the percent body fat is correlated with weight and body measurements, while height has little if any effect. There are also correlations between body measurements and weight which we'll have to deal with later. I'm going to use a [linear regression model](http://en.wikipedia.org/wiki/Linear_regression) to predict percent body fat from the data.\n",
    "\n",
    "A linear regression model is a formal way to draw a line through a set of data points. For instance, we can see that when we plot abdomen circumference on the x-axis and percent body fat on the y-axis (first row, fifth column), the data falls along a general upward sloped line. As we would expect, a larger gut indicates more body fat. We can get a decent estimate of this relationship by printing out the plot and drawing a line through the data points by hand. However, we want to find the \"best\" line. What I mean by \"best\" is that the line we draw has the least error predicting the existing data points.\n",
    "\n",
    "We can define any line using an intercept, $\\beta_0$,  and a slope, $\\beta_1$, as $y = \\beta_0 + \\beta_1 x$. Here, $y$ is our dependent variable, percent body fat for example, and $x$ is the independent variable, such as abdomen circumference. Depending on the context and conventions, $x$ is also called the explanatory variable, regressor, feature, predictor, and more. Our model is a prediction of the percent body fat $\\hat{y}$ using the abdomen circumference $x$,\n",
    "$$\n",
    "\\hat{y}_i = \\beta_0 + \\beta_1 x_i,\n",
    "$$\n",
    "where the subscript $i$ indicates which data point we are using ($i=1$ is the first data point, and so on). Our goal here is to find values for $\\beta_0$ and $\\beta_1$ which give us the smallest error $\\epsilon_i = y_i - \\hat{y}_i$. We can actually find an exact solution to this problem if we minimize the sum of the squares of the errors, \n",
    "\n",
    "$$\n",
    "SSE = \\sum_{i=1}^{n} \\left|\\, y_i - \\hat{y}_i \\right|^2 ,\n",
    "$$\n",
    "\n",
    "using the [ordinary least squares](http://en.wikipedia.org/wiki/Ordinary_least_squares) method. Here I will use the excellent [scikits learn](http://scikit-learn.org/stable/) Python package to fit a linear model to our data."
   ]
  },
  {
   "cell_type": "code",
   "execution_count": 8,
   "metadata": {},
   "outputs": [],
   "source": [
    "from sklearn import linear_model"
   ]
  },
  {
   "cell_type": "code",
   "execution_count": 9,
   "metadata": {},
   "outputs": [],
   "source": [
    "X = data[['abdomen']]\n",
    "y = data['pbf_b']"
   ]
  },
  {
   "cell_type": "code",
   "execution_count": 10,
   "metadata": {},
   "outputs": [
    {
     "name": "stderr",
     "output_type": "stream",
     "text": [
      "C:\\Users\\jmo4cob\\AppData\\Local\\conda\\conda\\envs\\tf\\lib\\site-packages\\ipykernel_launcher.py:2: SettingWithCopyWarning: \n",
      "A value is trying to be set on a copy of a slice from a DataFrame.\n",
      "Try using .loc[row_indexer,col_indexer] = value instead\n",
      "\n",
      "See the caveats in the documentation: http://pandas.pydata.org/pandas-docs/stable/indexing.html#indexing-view-versus-copy\n",
      "  \n"
     ]
    },
    {
     "data": {
      "text/plain": [
       "LinearRegression(copy_X=True, fit_intercept=False, n_jobs=1, normalize=False)"
      ]
     },
     "execution_count": 10,
     "metadata": {},
     "output_type": "execute_result"
    }
   ],
   "source": [
    "# Make an intercept column that is all 1\n",
    "X['intercept'] = pd.DataFrame(np.ones(len(X)), index=X.index)\n",
    "# This is the part that fits the linear model to the data\n",
    "linmodel = linear_model.LinearRegression(fit_intercept=False)\n",
    "linmodel.fit(X, y)"
   ]
  },
  {
   "cell_type": "code",
   "execution_count": 11,
   "metadata": {},
   "outputs": [
    {
     "data": {
      "text/html": [
       "<div>\n",
       "<style scoped>\n",
       "    .dataframe tbody tr th:only-of-type {\n",
       "        vertical-align: middle;\n",
       "    }\n",
       "\n",
       "    .dataframe tbody tr th {\n",
       "        vertical-align: top;\n",
       "    }\n",
       "\n",
       "    .dataframe thead th {\n",
       "        text-align: right;\n",
       "    }\n",
       "</style>\n",
       "<table border=\"1\" class=\"dataframe\">\n",
       "  <thead>\n",
       "    <tr style=\"text-align: right;\">\n",
       "      <th></th>\n",
       "      <th>abdomen</th>\n",
       "      <th>intercept</th>\n",
       "    </tr>\n",
       "  </thead>\n",
       "  <tbody>\n",
       "    <tr>\n",
       "      <th>0</th>\n",
       "      <td>85.2</td>\n",
       "      <td>1.0</td>\n",
       "    </tr>\n",
       "    <tr>\n",
       "      <th>1</th>\n",
       "      <td>83.0</td>\n",
       "      <td>1.0</td>\n",
       "    </tr>\n",
       "    <tr>\n",
       "      <th>2</th>\n",
       "      <td>87.9</td>\n",
       "      <td>1.0</td>\n",
       "    </tr>\n",
       "    <tr>\n",
       "      <th>3</th>\n",
       "      <td>86.4</td>\n",
       "      <td>1.0</td>\n",
       "    </tr>\n",
       "    <tr>\n",
       "      <th>4</th>\n",
       "      <td>100.0</td>\n",
       "      <td>1.0</td>\n",
       "    </tr>\n",
       "  </tbody>\n",
       "</table>\n",
       "</div>"
      ],
      "text/plain": [
       "   abdomen  intercept\n",
       "0     85.2        1.0\n",
       "1     83.0        1.0\n",
       "2     87.9        1.0\n",
       "3     86.4        1.0\n",
       "4    100.0        1.0"
      ]
     },
     "execution_count": 11,
     "metadata": {},
     "output_type": "execute_result"
    }
   ],
   "source": [
    "X.head()"
   ]
  },
  {
   "cell_type": "code",
   "execution_count": 12,
   "metadata": {
    "scrolled": false
   },
   "outputs": [
    {
     "name": "stdout",
     "output_type": "stream",
     "text": [
      "Coefficients\n",
      "--------------\n",
      "abdomen: 0.584 \n",
      "intercept: -35.107 \n"
     ]
    }
   ],
   "source": [
    "print(\"Coefficients\\n\"+ '-'*14)\n",
    "for feature, coef in zip(X.columns, linmodel.coef_):\n",
    "    print('{}: {:.3f} '.format(feature, coef))"
   ]
  },
  {
   "cell_type": "code",
   "execution_count": 13,
   "metadata": {},
   "outputs": [
    {
     "data": {
      "text/plain": [
       "(250, 2)"
      ]
     },
     "execution_count": 13,
     "metadata": {},
     "output_type": "execute_result"
    }
   ],
   "source": [
    "X.shape"
   ]
  },
  {
   "cell_type": "code",
   "execution_count": 14,
   "metadata": {},
   "outputs": [
    {
     "data": {
      "image/png": "[encoded data removed]",
      "text/plain": [
       "<Figure size 432x288 with 1 Axes>"
      ]
     },
     "metadata": {},
     "output_type": "display_data"
    }
   ],
   "source": [
    "plt.plot(X.iloc[:, 0], linmodel.predict(X), color='r', label ='model')\n",
    "plt.scatter(X.iloc[:, 0], y , color='b', label='data')\n",
    "plt.legend()\n",
    "plt.xlabel('abdomen circumference (cm)')\n",
    "plt.ylabel('body fat percent')\n",
    "plt.show()"
   ]
  },
  {
   "cell_type": "markdown",
   "metadata": {},
   "source": [
    "We see here that our model fits the data pretty well, but I'd like to measure the quality of the fit. A common way to measure the performance of the model is to split the data into a training set and a testing set. You fit the model to the training set, then measure how well it can predict the test set. This is known as cross-validation (CV) and is sort of the industry standard. I'll use scikits learn to perform *k-folds* CV. This method separates the data into $k$ parts (folds). Then, it uses $k-1$ folds to fit the model and then tests the model on the left out fold. Repeat this $k$ times using each fold to test only once."
   ]
  },
  {
   "cell_type": "code",
   "execution_count": 15,
   "metadata": {},
   "outputs": [
    {
     "name": "stdout",
     "output_type": "stream",
     "text": [
      "Mean absolute error: 3.756\n"
     ]
    },
    {
     "name": "stderr",
     "output_type": "stream",
     "text": [
      "C:\\Users\\jmo4cob\\AppData\\Local\\conda\\conda\\envs\\tf\\lib\\site-packages\\sklearn\\cross_validation.py:41: DeprecationWarning: This module was deprecated in version 0.18 in favor of the model_selection module into which all the refactored classes and functions are moved. Also note that the interface of the new CV iterators are different from that of this module. This module will be removed in 0.20.\n",
      "  \"This module will be removed in 0.20.\", DeprecationWarning)\n"
     ]
    }
   ],
   "source": [
    "from sklearn.cross_validation import cross_val_score\n",
    "scores = cross_val_score(linmodel, X, y,\n",
    "                         cv=5, scoring='neg_mean_absolute_error')\n",
    "print(\"Mean absolute error: {:.3f}\".format(-scores.mean()))"
   ]
  },
  {
   "cell_type": "markdown",
   "metadata": {},
   "source": [
    "We can improve our model by including all the information we have in the data. Using a linear model makes this simple, we just add more coefficients. For each data point we have $m$ features and we can use them to predict the body fat percentage $\\hat{y}$:\n",
    "\n",
    "$$\n",
    "\\hat{y}_i = \\beta_0 + \\beta_1 x_{i,1} + \\beta_2 x_{i,2} + \\cdots + \\beta_m x_{i,m}\n",
    "= \\sum_{j=1}^{m} \\beta_j x_j\n",
    "$$\n",
    "\n",
    "where the subscript $j$ indicates our data features and $x_0 = 1$. For convenience, we can write our model in matrix notation:\n",
    "\n",
    "$$\n",
    "\\hat{y} = X \\beta,\n",
    "$$\n",
    "\n",
    "$$\n",
    "\\hat{y} = \\left( \\begin{array}{c}\n",
    "y_1    \\\\\n",
    "y_2    \\\\\n",
    "\\vdots \\\\\n",
    "y_n  \\end{array} \\right)\n",
    "\\hspace{2em} \\beta = \\left( \\begin{array}{c}\n",
    "\\beta_0  \\\\\n",
    "\\beta_1  \\\\\n",
    "\\vdots \\\\\n",
    "\\beta_m  \\end{array} \\right)\n",
    "\\hspace{2em} X = \\left( \\begin{array}{ccccc}\n",
    "1 & x_{1,1} & x_{1,2} & \\cdots & x_{1,m} \\\\\n",
    "1 & x_{2,1} & x_{2,2} & \\cdots & x_{2,m}  \\\\\n",
    "1 & \\vdots & \\vdots & \\ddots & \\vdots \\\\\n",
    "1 & x_{n,1} & x_{1,2} & \\cdots & x_{n,m}  \\end{array} \\right)\n",
    "$$\n",
    "\n",
    "Again, our error is $ \\mathbf{\\epsilon} = \\sum_{i=1}^{n} \\left|\\, y_i - \\hat{y}_i \\right|^2 $ which we want to minimize. There is an exact and unique solution for the coefficients that minimize the error:\n",
    "\n",
    "$$\n",
    "\\hat{\\beta} = \\left( X^T X \\right)^{-1}X^T y\n",
    "$$\n"
   ]
  },
  {
   "cell_type": "code",
   "execution_count": 16,
   "metadata": {},
   "outputs": [
    {
     "name": "stdout",
     "output_type": "stream",
     "text": [
      "Coefficients\n",
      "--------------\n",
      "height: -0.063 \n",
      "weight: -0.084 \n",
      "age: 0.056 \n",
      "neck: -0.462 \n",
      "chest: -0.018 \n",
      "abdomen: 0.889 \n",
      "hip: -0.192 \n",
      "thigh: 0.229 \n",
      "knee: -0.015 \n",
      "ankle: 0.172 \n",
      "biceps: 0.171 \n",
      "forearm: 0.437 \n",
      "wrist: -1.493 \n",
      "intercept: -15.725 \n",
      "Mean absolute error: 3.414\n"
     ]
    },
    {
     "name": "stderr",
     "output_type": "stream",
     "text": [
      "C:\\Users\\jmo4cob\\AppData\\Local\\conda\\conda\\envs\\tf\\lib\\site-packages\\pandas\\core\\indexing.py:362: SettingWithCopyWarning: \n",
      "A value is trying to be set on a copy of a slice from a DataFrame.\n",
      "Try using .loc[row_indexer,col_indexer] = value instead\n",
      "\n",
      "See the caveats in the documentation: http://pandas.pydata.org/pandas-docs/stable/indexing.html#indexing-view-versus-copy\n",
      "  self.obj[key] = _infer_fill_value(value)\n",
      "C:\\Users\\jmo4cob\\AppData\\Local\\conda\\conda\\envs\\tf\\lib\\site-packages\\pandas\\core\\indexing.py:543: SettingWithCopyWarning: \n",
      "A value is trying to be set on a copy of a slice from a DataFrame.\n",
      "Try using .loc[row_indexer,col_indexer] = value instead\n",
      "\n",
      "See the caveats in the documentation: http://pandas.pydata.org/pandas-docs/stable/indexing.html#indexing-view-versus-copy\n",
      "  self.obj[item] = s\n"
     ]
    }
   ],
   "source": [
    "features = data[['height', 'weight', 'age', 'neck', 'chest', 'abdomen', \n",
    "                 'hip', 'thigh', 'knee', 'ankle','biceps', 'forearm', \n",
    "                 'wrist']]\n",
    "features.loc[:,'intercept'] = pd.Series(np.ones(len(features)), \n",
    "                                        index=features.index)\n",
    "\n",
    "linmodel = linear_model.LinearRegression(fit_intercept=False)\n",
    "linmodel.fit(features, data['pbf_b'])\n",
    "\n",
    "scores = cross_val_score(linmodel, features, y=data['pbf_b'],\n",
    "                         cv=5, scoring='neg_mean_absolute_error')\n",
    "\n",
    "print(\"Coefficients\\n\"+ '-'*14)\n",
    "for feature, coef in zip(features.columns, linmodel.coef_):\n",
    "    print('{}: {:.3f} '.format(feature, coef))\n",
    "print(\"Mean absolute error: {:.3f}\".format(-scores.mean()))"
   ]
  },
  {
   "cell_type": "code",
   "execution_count": null,
   "metadata": {},
   "outputs": [],
   "source": []
  }
 ],
 "metadata": {
  "kernelspec": {
   "display_name": "Python 3",
   "language": "python",
   "name": "python3"
  },
  "language_info": {
   "codemirror_mode": {
    "name": "ipython",
    "version": 3
   },
   "file_extension": ".py",
   "mimetype": "text/x-python",
   "name": "python",
   "nbconvert_exporter": "python",
   "pygments_lexer": "ipython3",
   "version": "3.5.4"
  }
 },
 "nbformat": 4,
 "nbformat_minor": 1
}
